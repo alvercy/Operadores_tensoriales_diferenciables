{
  "cells": [
    {
      "cell_type": "code",
      "execution_count": null,
      "metadata": {
        "id": "FaTXxUKuzst4"
      },
      "outputs": [],
      "source": [
        "import tensorflow as tf\n",
        "import numpy as np\n",
        "import matplotlib.pyplot as plt"
      ]
    },
    {
      "cell_type": "code",
      "execution_count": null,
      "metadata": {
        "id": "JmvdZmqj33pu"
      },
      "outputs": [],
      "source": [
        "def drawModel1D(ax, thickness=None, values=None, model=None, depths=None,\n",
        "                plot='plot',\n",
        "                xlabel=r'Resistivity $(\\Omega$m$)$', zlabel='Depth (m)',\n",
        "                z0=0,\n",
        "                **kwargs):\n",
        "    \"\"\"Draw 1d block model into axis ax.\n",
        "\n",
        "    Draw 1d block model into axis ax defined by values and thickness vectors\n",
        "    using plot function.\n",
        "    For log y cases, z0 should be set > 0 so that the default becomes 1.\n",
        "\n",
        "    Parameters\n",
        "    ----------\n",
        "    ax : mpl axes\n",
        "        Matplotlib Axes object to plot into.\n",
        "\n",
        "    values : iterable [float]\n",
        "        [N] Values for each layer plus lower background.\n",
        "\n",
        "    thickness : iterable [float]\n",
        "        [N-1] thickness for each layer. Either thickness or depths must be set.\n",
        "\n",
        "    depths : iterable [float]\n",
        "        [N-1] Values for layer depths (positive z-coordinates).\n",
        "        Either thickness or depths must be set.\n",
        "\n",
        "    model : iterable [float]\n",
        "        Shortcut to use default model definition.\n",
        "        thks = model[0:nLay]\n",
        "        values = model[nLay:]\n",
        "\n",
        "    plot : string\n",
        "        Matplotlib plotting function.\n",
        "        'plot', 'semilogx', 'semilogy', 'loglog'\n",
        "\n",
        "    xlabel : str\n",
        "        Label for x axis.\n",
        "\n",
        "    ylabel : str\n",
        "        Label for y axis.\n",
        "\n",
        "    z0 : float\n",
        "        Starting depth in m\n",
        "\n",
        "    **kwargs : dict()\n",
        "        Forwarded to the plot routine\n",
        "\n",
        "    Examples\n",
        "    --------\n",
        "    >>> import matplotlib.pyplot as plt\n",
        "    >>> import numpy as np\n",
        "    >>> import pygimli as pg\n",
        "    >>> # plt.style.use('ggplot')\n",
        "    >>> thk = [1, 4, 4]\n",
        "    >>> res = np.array([10., 5, 15, 50])\n",
        "    >>> fig, ax = plt.subplots()\n",
        "    >>> pg.viewer.mpl.drawModel1D(ax, values=res*5, depths=np.cumsum(thk),\n",
        "    ...                          plot='semilogx', color='blue')\n",
        "    >>> pg.viewer.mpl.drawModel1D(ax, values=res, thickness=thk, z0=1,\n",
        "    ...                          plot='semilogx', color='red')\n",
        "    >>> pg.wait()\n",
        "    \"\"\"\n",
        "    if model is not None:\n",
        "        nLayers = (len(model)-1)//2\n",
        "        thickness = model[:nLayers]\n",
        "        values = model[nLayers:]\n",
        "\n",
        "    if thickness is None and depths is None:\n",
        "        raise Exception(\"Either thickness or depths must be given.\")\n",
        "\n",
        "    nLayers = len(values)\n",
        "    px = np.zeros(nLayers * 2)\n",
        "    pz = np.zeros(nLayers * 2)\n",
        "\n",
        "    if thickness is not None:\n",
        "        z1 = np.cumsum(thickness) + z0\n",
        "    else:\n",
        "        z1 = depths\n",
        "\n",
        "    for i in range(nLayers):\n",
        "        px[2 * i] = values[i]\n",
        "        px[2 * i + 1] = values[i]\n",
        "\n",
        "        if i == nLayers - 1:\n",
        "            pz[2 * i + 1] = z1[i - 1] * 1.2\n",
        "        else:\n",
        "            pz[2 * i + 1] = z1[i]\n",
        "            pz[2 * i + 2] = z1[i]\n",
        "\n",
        "    if plot == 'loglog' or plot == 'semilogy':\n",
        "        if z0 == 0:\n",
        "            pz[0] = z1[0] / 2.\n",
        "        else:\n",
        "            pz[0] = z0\n",
        "\n",
        "    try:\n",
        "        plot = getattr(ax, plot)\n",
        "        plot(px, pz+z0, **kwargs)\n",
        "    except BaseException as e:\n",
        "        print(e)\n",
        "\n",
        "    ax.set_ylabel(zlabel)\n",
        "    ax.set_xlabel(xlabel)\n",
        "    # assume positive depths pointing upward\n",
        "    ax.set_ylim(pz[-1], pz[0])\n",
        "    ax.grid(True)"
      ]
    },
    {
      "cell_type": "code",
      "execution_count": null,
      "metadata": {
        "id": "11GH-XfD34tZ"
      },
      "outputs": [],
      "source": [
        "def Modelo(n = 10, depth_max = 100):\n",
        "\n",
        "    dz = depth_max / (n - 1)\n",
        "    z = np.arange(n) * dz\n",
        "    espesores = np.diff(z)\n",
        "\n",
        "    return espesores"
      ]
    },
    {
      "cell_type": "code",
      "execution_count": null,
      "metadata": {
        "id": "J_fpi1hsz_5B"
      },
      "outputs": [],
      "source": [
        "synres = tf.constant([100, 60, 20, 800, 30, 200], dtype = tf.float64)\n",
        "synthk = Modelo(n= len(synres), depth_max=20)\n",
        "\n",
        "#synthk = tf.constant([0.57, 1.96, 2.8, 18.4], dtype=tf.float64)\n",
        "#syncon = tf.math.reciprocal(tf.constant([103, 538, 261, 51.4, 1274], dtype=tf.float64))"
      ]
    },
    {
      "cell_type": "code",
      "execution_count": null,
      "metadata": {
        "colab": {
          "base_uri": "https://localhost:8080/"
        },
        "id": "0UsAf798bk2z",
        "outputId": "ead92994-c06e-465c-82f6-16ecad6ec030"
      },
      "outputs": [
        {
          "output_type": "execute_result",
          "data": {
            "text/plain": [
              "array([4., 4., 4., 4., 4.])"
            ]
          },
          "metadata": {},
          "execution_count": 52
        }
      ],
      "source": [
        "synthk"
      ]
    },
    {
      "cell_type": "code",
      "execution_count": null,
      "metadata": {
        "id": "dsbN8kawzlqJ"
      },
      "outputs": [],
      "source": [
        "@tf.function\n",
        "def forward(res):\n",
        "    \"\"\"\n",
        "    Calculate forward VES response with half the current electrode spacing for a 1D layered earth.\n",
        "\n",
        "    Parameters\n",
        "    ----------\n",
        "    con : tf.Tensor, (n,)\n",
        "        Electrical conductivity of n layers (S/m), last layer n is assumed to be infinite\n",
        "\n",
        "    thick : tf.Tensor, (n-1,)\n",
        "        Thickness of n-1 layers (m), last layer n is assumed to be infinite and does not require a thickness\n",
        "\n",
        "    ab2 : float\n",
        "        Half the current (AB/2) electrode spacing (m)\n",
        "\n",
        "    Returns\n",
        "    -------\n",
        "    app_con : tf.Tensor, (m,)\n",
        "        Apparent half-space electrical conductivity (S/m)\n",
        "    \"\"\"\n",
        "    # Conductivity to resistivity and number of layers\n",
        "    ab2 = tf.cast(np.logspace(-1, 2.5, 50), dtype=tf.float64)\n",
        "    #res = tf.math.reciprocal(tf.cast(con, dtype=tf.float64))\n",
        "    lays = tf.shape(res)[0] - 1\n",
        "    thick =tf.cast(synthk,dtype=tf.float64)\n",
        "\n",
        "    # Constants\n",
        "    LOG = tf.math.log(tf.cast(10.0, dtype=tf.float64))\n",
        "    COUNTER = 1 + (2 * 13 - 2)\n",
        "    UP = tf.exp(0.5 * LOG / 4.438)\n",
        "\n",
        "    # Filter integral variable\n",
        "    up = ab2 * tf.exp(-10.0 * LOG / 4.438)\n",
        "\n",
        "    # Initialize array\n",
        "    ti = tf.TensorArray(dtype=tf.float64, size=COUNTER)\n",
        "\n",
        "    for ii in range(COUNTER):\n",
        "        # Set bottom layer equal to its resistivity\n",
        "        ti1 = tf.fill(tf.shape(up), res[lays])\n",
        "\n",
        "        # Recursive formula (Koefoed, 1970)\n",
        "        lay = lays\n",
        "        while lay > 0:\n",
        "            lay -= 1\n",
        "            tan_h = tf.tanh(tf.cast(thick[lay], dtype=tf.float64) / up)\n",
        "            ti1 = (ti1 + res[lay] * tan_h) / (1 + ti1 * tan_h / res[lay])\n",
        "\n",
        "        # Set overlaying layer to previous\n",
        "        ti = ti.write(ii, ti1)\n",
        "\n",
        "        # Update filter integral variable\n",
        "        up *= UP\n",
        "\n",
        "    # The following line was incorrectly indented, causing the error.\n",
        "    ti = ti.stack()  # Shape: (COUNTER, len(ab2))\n",
        "\n",
        "    # Apply point-filter weights (Nyman and Landisman, 1977)\n",
        "    weights = tf.constant([105, 0, -262, 0, 416, 0, -746, 0, 1605, 0, -4390, 0, 13396, 0, -27841, 0, 16448, 0, 8183, 0, 2525, 0, 336, 0, 225], dtype=tf.float64)\n",
        "    weighted_ti = tf.tensordot(weights, ti, axes=1)\n",
        "    res_a = weighted_ti / 1e4\n",
        "\n",
        "    # Resistivity to conductivity\n",
        "    return res_a"
      ]
    },
    {
      "cell_type": "code",
      "execution_count": null,
      "metadata": {
        "id": "ax-uBkBZ0qpG"
      },
      "outputs": [],
      "source": [
        "rhoa = forward(synres)"
      ]
    },
    {
      "cell_type": "code",
      "execution_count": null,
      "metadata": {
        "colab": {
          "base_uri": "https://localhost:8080/"
        },
        "id": "1u8U7qW1_slf",
        "outputId": "440a70a8-576f-4832-dae5-2944b969c977"
      },
      "outputs": [
        {
          "output_type": "execute_result",
          "data": {
            "text/plain": [
              "<tf.Tensor: shape=(50,), dtype=float64, numpy=\n",
              "array([100.        , 100.        , 100.        ,  99.99999997,\n",
              "        99.99999953,  99.99999561,  99.99997093,  99.99985537,\n",
              "        99.99943368,  99.9981847 ,  99.99506677,  99.98827769,\n",
              "        99.97497666,  99.95087865,  99.90957478,  99.84143657,\n",
              "        99.73194551,  99.55911473,  99.28952   ,  98.87285582,\n",
              "        98.23594568,  97.27825682,  95.8724071 ,  93.87544787,\n",
              "        91.15738756,  87.64745312,  83.38708634,  78.57267211,\n",
              "        73.57660905,  68.939966  ,  65.32098602,  63.37873386,\n",
              "        63.60199826,  66.15105729,  70.80480535,  77.05550003,\n",
              "        84.30129593,  92.03149432,  99.92228521, 107.83029044,\n",
              "       115.72624935, 123.62061751, 131.51043246, 139.35244351,\n",
              "       147.05697627, 154.49695489, 161.5276824 , 168.01162649,\n",
              "       173.8408741 , 178.9510491 ])>"
            ]
          },
          "metadata": {},
          "execution_count": 55
        }
      ],
      "source": [
        "rhoa"
      ]
    },
    {
      "cell_type": "code",
      "execution_count": null,
      "metadata": {
        "id": "_l9b5Mht3_Hg"
      },
      "outputs": [],
      "source": [
        "#N=7 # numero de capas\n",
        "#invthk = Modelo(n=N, depth_max=25)\n",
        "VES = tf.Module()\n",
        "VES.synres = tf.Variable(500*tf.ones(len(synres),dtype=tf.float64),dtype=tf.float64)\n",
        "#VES.synthk = tf.constant(invthk,dtype=tf.float64)\n",
        "\n",
        "optimizer = tf.keras.optimizers.AdamW(learning_rate=0.5)\n",
        "\n",
        "@tf.function\n",
        "def train():\n",
        "    with tf.GradientTape() as tape:\n",
        "        rhoa_pred = forward(VES.synres)\n",
        "        J = (0.5)*tf.norm( tf.math.log(rhoa_pred) - tf.math.log(rhoa), 2)\n",
        "    grads = tape.gradient(J, VES.trainable_variables)\n",
        "    optimizer.apply_gradients(zip(grads, VES.trainable_variables))\n",
        "    return J"
      ]
    },
    {
      "cell_type": "code",
      "execution_count": null,
      "metadata": {
        "colab": {
          "base_uri": "https://localhost:8080/"
        },
        "id": "N3q3D2Ed4DP2",
        "outputId": "651dc74a-c5f5-4267-dc43-75c39114c939"
      },
      "outputs": [
        {
          "output_type": "stream",
          "name": "stderr",
          "text": [
            "100%|██████████| 1000/1000 [01:17<00:00, 12.97it/s, LOSS=0.0283]\n"
          ]
        }
      ],
      "source": [
        "from tqdm import trange\n",
        "loss_i = []\n",
        "niter = trange(1000)\n",
        "for i in niter:\n",
        "  loss = train()\n",
        "  niter.set_postfix(LOSS=loss.numpy())\n",
        "  loss_i.append(loss.numpy())"
      ]
    },
    {
      "cell_type": "code",
      "execution_count": null,
      "metadata": {
        "id": "6w0nTpO-4wD_",
        "colab": {
          "base_uri": "https://localhost:8080/",
          "height": 490
        },
        "outputId": "31edf814-2831-4d9f-dc44-542180f991b7"
      },
      "outputs": [
        {
          "output_type": "stream",
          "name": "stdout",
          "text": [
            "LOSS: 0.02827784840699183\n"
          ]
        },
        {
          "output_type": "display_data",
          "data": {
            "text/plain": [
              "<Figure size 640x480 with 1 Axes>"
            ],
            "image/png": "[encoded data removed]"
          },
          "metadata": {}
        }
      ],
      "source": [
        "plt.plot(loss_i)\n",
        "plt.title('Convergencia de la Función de Costo')\n",
        "plt.ylabel('FUNCION DE COSTO')\n",
        "plt.xlabel('NUMERO DE ITERACIONES')\n",
        "plt.savefig('convergencia_funcion_de_costo.svg', format='svg')\n",
        "print(f'LOSS: {loss}')"
      ]
    },
    {
      "cell_type": "code",
      "execution_count": null,
      "metadata": {
        "id": "jJ6l7peS4zYV",
        "colab": {
          "base_uri": "https://localhost:8080/",
          "height": 549
        },
        "outputId": "b23f7cee-3124-4641-bf85-86f7045db735"
      },
      "outputs": [
        {
          "output_type": "display_data",
          "data": {
            "text/plain": [
              "<Figure size 640x480 with 1 Axes>"
            ],
            "image/png": "[encoded data removed]"
          },
          "metadata": {}
        },
        {
          "output_type": "stream",
          "name": "stdout",
          "text": [
            "Resistividad: <tf.Variable 'Variable:0' shape=(6,) dtype=float64, numpy=\n",
            "array([100.07188322,  53.54660985,  35.79285395,  74.68004654,\n",
            "        98.18940678, 186.8547057 ])>\n",
            "Espesor: [4. 4. 4. 4. 4.]\n"
          ]
        },
        {
          "output_type": "display_data",
          "data": {
            "text/plain": [
              "<IPython.core.display.Javascript object>"
            ],
            "application/javascript": [
              "\n",
              "    async function download(id, filename, size) {\n",
              "      if (!google.colab.kernel.accessAllowed) {\n",
              "        return;\n",
              "      }\n",
              "      const div = document.createElement('div');\n",
              "      const label = document.createElement('label');\n",
              "      label.textContent = `Downloading \"${filename}\": `;\n",
              "      div.appendChild(label);\n",
              "      const progress = document.createElement('progress');\n",
              "      progress.max = size;\n",
              "      div.appendChild(progress);\n",
              "      document.body.appendChild(div);\n",
              "\n",
              "      const buffers = [];\n",
              "      let downloaded = 0;\n",
              "\n",
              "      const channel = await google.colab.kernel.comms.open(id);\n",
              "      // Send a message to notify the kernel that we're ready.\n",
              "      channel.send({})\n",
              "\n",
              "      for await (const message of channel.messages) {\n",
              "        // Send a message to notify the kernel that we're ready.\n",
              "        channel.send({})\n",
              "        if (message.buffers) {\n",
              "          for (const buffer of message.buffers) {\n",
              "            buffers.push(buffer);\n",
              "            downloaded += buffer.byteLength;\n",
              "            progress.value = downloaded;\n",
              "          }\n",
              "        }\n",
              "      }\n",
              "      const blob = new Blob(buffers, {type: 'application/binary'});\n",
              "      const a = document.createElement('a');\n",
              "      a.href = window.URL.createObjectURL(blob);\n",
              "      a.download = filename;\n",
              "      div.appendChild(a);\n",
              "      a.click();\n",
              "      div.remove();\n",
              "    }\n",
              "  "
            ]
          },
          "metadata": {}
        },
        {
          "output_type": "display_data",
          "data": {
            "text/plain": [
              "<IPython.core.display.Javascript object>"
            ],
            "application/javascript": [
              "download(\"download_34341d3e-346a-46f8-902b-dc3138e73d99\", \"resistividad_aparente_vs_ab2.svg\", 35880)"
            ]
          },
          "metadata": {}
        }
      ],
      "source": [
        "ab2 = tf.cast(np.logspace(-1, 2.5, 50), dtype=tf.float64)\n",
        "plt.plot(ab2, rhoa, linestyle='-', label='observed')\n",
        "plt.plot(ab2, forward(VES.synres), linestyle='dashed', label='predict', color='red')\n",
        "plt.ylim(10, 1000)\n",
        "plt.yscale('log')\n",
        "plt.xscale('log')\n",
        "plt.xlabel('AB/2 [m]')\n",
        "plt.ylabel('Resistividad aparente [Ohm*m]')\n",
        "plt.title('Resistividad Aparente vs AB2')\n",
        "plt.legend()\n",
        "plt.savefig('resistividad_aparente_vs_ab2.svg', format='svg', transparent=True)\n",
        "plt.show()\n",
        "\n",
        "print(f'Resistividad: {VES.synres}')\n",
        "print(f'Espesor: {synthk}')\n",
        "\n",
        "from google.colab import files\n",
        "files.download('resistividad_aparente_vs_ab2.svg')"
      ]
    },
    {
      "cell_type": "code",
      "execution_count": null,
      "metadata": {
        "id": "SkAiruhz4z3N",
        "colab": {
          "base_uri": "https://localhost:8080/",
          "height": 611
        },
        "outputId": "5a71295b-fcb6-4185-c51b-f147e1d98811"
      },
      "outputs": [
        {
          "output_type": "stream",
          "name": "stderr",
          "text": [
            "<ipython-input-60-1d00dbbf2874>:5: UserWarning: Attempt to set non-positive xlim on a log-scaled axis will be ignored.\n",
            "  plt.xlim([0,10**3])\n"
          ]
        },
        {
          "output_type": "execute_result",
          "data": {
            "text/plain": [
              "(16.631330580338293, 1000)"
            ]
          },
          "metadata": {},
          "execution_count": 60
        },
        {
          "output_type": "display_data",
          "data": {
            "text/plain": [
              "<Figure size 400x600 with 1 Axes>"
            ],
            "image/png": "[encoded data removed]"
          },
          "metadata": {}
        }
      ],
      "source": [
        "fig, ax = plt.subplots(figsize=(4,6))\n",
        "drawModel1D(ax, synthk, synres,plot='semilogx',linewidth=3.0)\n",
        "drawModel1D(ax, synthk, VES.synres.numpy(),plot='semilogx',color='red',linestyle='dashed')\n",
        "plt.savefig('/content/Modelo.svg', format='svg', transparent=True)\n",
        "plt.xlim([0,10**3])"
      ]
    }
  ],
  "metadata": {
    "colab": {
      "provenance": []
    },
    "kernelspec": {
      "display_name": "Python 3",
      "name": "python3"
    },
    "language_info": {
      "name": "python"
    }
  },
  "nbformat": 4,
  "nbformat_minor": 0
}